{
 "cells": [
  {
   "cell_type": "markdown",
   "metadata": {},
   "source": [
    "Question 1 : Calculating Circular Orbits"
   ]
  },
  {
   "cell_type": "code",
   "execution_count": 12,
   "metadata": {},
   "outputs": [
    {
     "name": "stdout",
     "output_type": "stream",
     "text": [
      "velocity_conversion_factor =  3214659.062712115\n",
      "time_conversion_factor =  5\n"
     ]
    }
   ],
   "source": [
    "# question 1.1 (conversion factor)\n",
    "\n",
    "# constant in the CGS system according to the document\n",
    "PI = 3.14159\n",
    "G_CGS = 7.77430e-8 # the gravitational constant in CGS system\n",
    "c_CGS = 2.99792e10 # the speed of light in CGS system\n",
    "AU_CGS = 1.49598e13 # 1 AU in CGS system\n",
    "M_CGS = 1.98854e33 # the mass of the sun in CGS system\n",
    "\n",
    "# ratio between the (scaled) escape velocities of an object escaping a planet with the mass of the sun and the radius of 1 AU\n",
    "\n",
    "# velocity conversion from the NEW system to the CGS system\n",
    "velocity_conversion_factor = (G_CGS*M_CGS/AU_CGS)**(1/2)/(1*1/1)**(1/2)\n",
    "# time conversion from the NEW system to the CGS system\n",
    "print(\"velocity_conversion_factor = \",velocity_conversion_factor)\n",
    "time_conversion_factor = \n",
    "# ratio bewteen 1 s (unit time in the SI system)\n",
    "print(\"time_conversion_factor = \",time_conversion_factor)\n",
    "\n"
   ]
  },
  {
   "cell_type": "code",
   "execution_count": null,
   "metadata": {},
   "outputs": [],
   "source": [
    "# question 1.2 (orbit integration)"
   ]
  },
  {
   "cell_type": "code",
   "execution_count": null,
   "metadata": {},
   "outputs": [],
   "source": [
    "# question 1.3 (orbit integration)"
   ]
  },
  {
   "cell_type": "code",
   "execution_count": null,
   "metadata": {},
   "outputs": [],
   "source": [
    "# question 1.4 ()"
   ]
  }
 ],
 "metadata": {
  "kernelspec": {
   "display_name": "igwn",
   "language": "python",
   "name": "python3"
  },
  "language_info": {
   "codemirror_mode": {
    "name": "ipython",
    "version": 3
   },
   "file_extension": ".py",
   "mimetype": "text/x-python",
   "name": "python",
   "nbconvert_exporter": "python",
   "pygments_lexer": "ipython3",
   "version": "3.11.5"
  }
 },
 "nbformat": 4,
 "nbformat_minor": 2
}
