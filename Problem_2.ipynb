{
 "cells": [
  {
   "cell_type": "markdown",
   "metadata": {},
   "source": [
    "Question 1 : Calculating Circular Orbits"
   ]
  },
  {
   "cell_type": "code",
   "execution_count": 1,
   "metadata": {},
   "outputs": [
    {
     "name": "stdout",
     "output_type": "stream",
     "text": [
      "velocity conversion factor in kilometers per second =  3.21465906271e+11\n",
      "time conversion factor in seconds =  4653619.46886\n"
     ]
    }
   ],
   "source": [
    "# question 1.1 (conversion factor)\n",
    "\n",
    "# constant in the CGS system according to the document\n",
    "PI = 3.14159\n",
    "G_CGS = 7.77430e-8 # the gravitational constant in CGS system\n",
    "c_CGS = 2.99792e10 # the speed of light in CGS system\n",
    "AU_CGS = 1.49598e13 # 1 AU in CGS system\n",
    "M_CGS = 1.98854e33 # the mass of the sun in CGS system\n",
    "\n",
    "# ratio between the escape velocities of an object escaping a planet with the mass of the sun and the radius of 1 AU\n",
    "\n",
    "# CGS velocity to NEW velocity conversion factor, unit of centimeters per second\n",
    "velocity_conversion_factor_0 = (G_CGS*M_CGS/AU_CGS)**(1/2)/(1*1/1)**(1/2) \n",
    "\n",
    "# ratio between the periods of an object orbiting a planet with the mass of the sun and the radius of 1 AU\n",
    "\n",
    "# CGS time to NEW time conversion factor, unit of seconds\n",
    "time_conversion_factor_0 = (1/velocity_conversion_factor_0)*(AU_CGS/1)\n",
    "\n",
    "# rescale to units required for the question\n",
    "velocity_conversion_factor_1 = velocity_conversion_factor_0*(1000/(1/100)) # units to kilometers per second\n",
    "time_conversion_factor_1 = time_conversion_factor_0 # units not changed (seconds)\n",
    "\n",
    "print(\"velocity conversion factor in kilometers per second = \",f'{velocity_conversion_factor_1:.12}')\n",
    "print(\"time conversion factor in seconds = \",f'{time_conversion_factor_1:.12}')"
   ]
  },
  {
   "cell_type": "code",
   "execution_count": null,
   "metadata": {},
   "outputs": [],
   "source": [
    "# question 1.2 (orbit integration)"
   ]
  },
  {
   "cell_type": "code",
   "execution_count": null,
   "metadata": {},
   "outputs": [],
   "source": [
    "# question 1.3 (orbit integration)"
   ]
  },
  {
   "cell_type": "code",
   "execution_count": null,
   "metadata": {},
   "outputs": [],
   "source": [
    "# question 1.4 ()"
   ]
  }
 ],
 "metadata": {
  "kernelspec": {
   "display_name": "igwn-py39",
   "language": "python",
   "name": "igwn-py39"
  },
  "language_info": {
   "codemirror_mode": {
    "name": "ipython",
    "version": 3
   },
   "file_extension": ".py",
   "mimetype": "text/x-python",
   "name": "python",
   "nbconvert_exporter": "python",
   "pygments_lexer": "ipython3",
   "version": "3.9.18"
  }
 },
 "nbformat": 4,
 "nbformat_minor": 2
}
