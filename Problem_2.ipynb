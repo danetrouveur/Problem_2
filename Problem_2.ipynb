{
 "cells": [
  {
   "cell_type": "markdown",
   "metadata": {},
   "source": [
    "Question 1 : Calculating Circular Orbits"
   ]
  },
  {
   "cell_type": "code",
   "execution_count": 27,
   "metadata": {},
   "outputs": [
    {
     "name": "stdout",
     "output_type": "stream",
     "text": [
      "velocity conversion factor in kilometers per second =  2.978565355485E+01\n",
      "time conversion factor in seconds =  5.022485060620E+06\n"
     ]
    }
   ],
   "source": [
    "# question 1.1 (conversion factor)\n",
    "\n",
    "# constant in the CGS system according to the document\n",
    "PI = 3.14159\n",
    "G_CGS = 6.67430e-8 # the gravitational constant in CGS system\n",
    "c_CGS = 2.99792e10 # the speed of light in CGS system\n",
    "AU_CGS = 1.49598e13 # 1 AU in CGS system\n",
    "M_CGS = 1.98854e33 # the mass of the sun in CGS system\n",
    "\n",
    "# ratio between the escape velocities of an object escaping a planet with the mass of the sun and the radius of 1 AU\n",
    "\n",
    "# NEW velocity to CGS velocity conversion factor, unit of centimeters per second\n",
    "velocity_conversion_factor_0 = (G_CGS*M_CGS/AU_CGS)**(1/2)/(1*1/1)**(1/2)\n",
    "\n",
    "# ratio between the periods of an object orbiting a planet with the mass of the sun and the radius of 1 AU\n",
    "\n",
    "# NEW time to CGS time conversion factor, unit of seconds\n",
    "time_conversion_factor_0 = (1/velocity_conversion_factor_0)*(AU_CGS/1)\n",
    "\n",
    "# rescale to units required for the question\n",
    "velocity_conversion_factor_1 = velocity_conversion_factor_0*(1/(1000/(1/100))) # units to kilometers per second\n",
    "time_conversion_factor_1 = time_conversion_factor_0 # units not changed (seconds)\n",
    "\n",
    "print(\"velocity conversion factor in kilometers per second = \",(f'{velocity_conversion_factor_1:.12E}'))\n",
    "print(\"time conversion factor in seconds = \",(f'{time_conversion_factor_1:.12E}'))"
   ]
  },
  {
   "cell_type": "code",
   "execution_count": 29,
   "metadata": {},
   "outputs": [
    {
     "name": "stdout",
     "output_type": "stream",
     "text": [
      "71.08606696665106\n"
     ]
    }
   ],
   "source": [
    "# question 1.2 (integrating circular orbit)\n",
    "\n",
    "# M1 = 1 , M2 = 1 , a = 2 , time interval = 100*P\n",
    "M1, M2 = 1, 1\n",
    "a1, a2 = 2, 2\n",
    "G = 1\n",
    "\n",
    "# the period of the binary system and the time interval\n",
    "P = (4*(PI**2)*((a1+a2)**3)/G*(M1+M2))**(1/2) # UNCERTAIN\n",
    "t = 100*P\n",
    "\n",
    "# inital conditions \n",
    "r_0 = a1 + a2\n",
    "v_0 = \n",
    "\n",
    "# the predictor step\n",
    "r_p = \n",
    "v_p = \n",
    "\n",
    "# the corrector step\n",
    "\n",
    "\n",
    "\n",
    "# current_step = \n",
    "# current_time =\n",
    "# current_distance = \n",
    "# print(int(current_step))\n",
    "# print(f'{current_time:.12E}')\n",
    "# print(f'{current_distance:.12E}')"
   ]
  },
  {
   "cell_type": "code",
   "execution_count": null,
   "metadata": {},
   "outputs": [],
   "source": [
    "# question 1.3 (orbit integration)"
   ]
  },
  {
   "cell_type": "code",
   "execution_count": null,
   "metadata": {},
   "outputs": [],
   "source": [
    "# question 1.4 ()"
   ]
  }
 ],
 "metadata": {
  "kernelspec": {
   "display_name": "igwn",
   "language": "python",
   "name": "python3"
  },
  "language_info": {
   "codemirror_mode": {
    "name": "ipython",
    "version": 3
   },
   "file_extension": ".py",
   "mimetype": "text/x-python",
   "name": "python",
   "nbconvert_exporter": "python",
   "pygments_lexer": "ipython3",
   "version": "3.9.18"
  }
 },
 "nbformat": 4,
 "nbformat_minor": 2
}
